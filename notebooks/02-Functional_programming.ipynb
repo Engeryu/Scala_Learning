{
 "cells": [
  {
   "cell_type": "markdown",
   "metadata": {},
   "source": [
    "# Functional programming\n",
    "\n",
    "Copy and paste these contents into new files and follow the instructions in comments."
   ]
  },
  {
   "cell_type": "markdown",
   "metadata": {},
   "source": [
    "## `FunctionalProgramming-Exercise0.scala`\n",
    "\n",
    "```scala\n",
    "// Implement a reverse string function using recursion.\n",
    "//\n",
    "// Tip:\n",
    "// val s:String\n",
    "// v.tail gives you every char of the string without the first element\n",
    "// v.head give you the first char of a string\n",
    "object Exercise0 {\n",
    "\n",
    "  def main(args: Array[String]): Unit = {\n",
    "    println(reverse(\"jedha\"))\n",
    "    println(reverse(\"bootcamp\"))\n",
    "  }\n",
    "\n",
    "}\n",
    "```"
   ]
  },
  {
   "cell_type": "markdown",
   "metadata": {},
   "source": [
    "## `FunctionalProgramming-Exercise1.scala`\n",
    "\n",
    "```scala\n",
    "// Implement an Object RandomList that generates a list of n Int when constructed\n",
    "// Create a function that will find the biggest prime number in the list. Remember to use container types when\n",
    "// no prime number is defined in the list.\n",
    "object Exercise1 {\n",
    "\n",
    "  def main(args: Array[String]): Unit = {\n",
    "    val randomNumbers = new RandomList(4)\n",
    "    println(randomNumbers.findBiggestPrime().getOrElse(\"no prime number\"))\n",
    "  }\n",
    "}\n",
    "```"
   ]
  },
  {
   "cell_type": "markdown",
   "metadata": {},
   "source": [
    "## `FunctionalProgramming-Exercise2.scala`\n",
    "\n",
    "```scala\n",
    "import scala.io.StdIn.readLine\n",
    "\n",
    "// Write the code that can translate the variable in into Either[String, Int]\n",
    "// Use the specific case matching to process the result differently in the 2 cases\n",
    "object Exercise2{\n",
    "\n",
    "  //Helper function to check if a string is an int\n",
    "  def isInt(str: String): Boolean = { in.forall(_.isDigit)}\n",
    "\n",
    "  def main(args: Array[String]): Unit = {\n",
    "    val in = readLine(\"Enter either a string or an Int: \")\n",
    "    val result: Either[String,Int] = //TODO\n",
    "  }\n",
    "}\n",
    "```"
   ]
  }
 ],
 "metadata": {
  "kernelspec": {
   "display_name": "Python 3",
   "language": "python",
   "name": "python3"
  },
  "language_info": {
   "codemirror_mode": {
    "name": "ipython",
    "version": 3
   },
   "file_extension": ".py",
   "mimetype": "text/x-python",
   "name": "python",
   "nbconvert_exporter": "python",
   "pygments_lexer": "ipython3",
   "version": "3.8.3"
  }
 },
 "nbformat": 4,
 "nbformat_minor": 4
}
