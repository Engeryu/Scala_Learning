{
 "cells": [
  {
   "cell_type": "markdown",
   "metadata": {},
   "source": [
    "# Project - Rebuild a calendar app\n",
    "\n",
    "Building the calendar app without the use of classes leads to a code difficult to maintain.\n",
    "\n",
    "Try to refactor the code from yesterday to keep the same functionalities but using Objects and Design Patterns\n",
    "\n",
    "**The basic refactoring:**\n",
    "- The calendar should become a class\n",
    "- Use a singleton object to access the calendar everywhere is your project \n",
    "\n",
    "**More advanced refactoring:**\n",
    "- Modularize the Command Line Interface\n",
    "- Handle Exceptions with `Either`\n",
    "\n",
    "Good Luck!"
   ]
  }
 ],
 "metadata": {
  "kernelspec": {
   "display_name": "Python 3",
   "language": "python",
   "name": "python3"
  },
  "language_info": {
   "codemirror_mode": {
    "name": "ipython",
    "version": 3
   },
   "file_extension": ".py",
   "mimetype": "text/x-python",
   "name": "python",
   "nbconvert_exporter": "python",
   "pygments_lexer": "ipython3",
   "version": "3.8.3"
  }
 },
 "nbformat": 4,
 "nbformat_minor": 4
}
