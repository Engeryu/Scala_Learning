{
 "cells": [
  {
   "cell_type": "markdown",
   "metadata": {},
   "source": [
    "# Getting started\n",
    "\n",
    "Create a new file named `Palindrome.scala` and copy/paste:\n",
    "\n",
    "```scala\n",
    "// As in python, in Scala you can import external libraries.\n",
    "// \"scala.io.StdIn.readLine\" will allow the user to type text in the terminal.\n",
    "import scala.io.StdIn.readLine;\n",
    "\n",
    "object Palindrome {\n",
    "\n",
    "  def reverseString(input: String): String = {\n",
    "    //TODO: implement a function that will reverse the string\n",
    "    //abcd --> dcba\n",
    "    //jedha --> ahdej\n",
    "  }\n",
    "\n",
    "  def isPalindrome(input: String): Boolean = {\n",
    "    //TODO: check if the input string is a palindrom\n",
    "    //jedha --> false\n",
    "    //kayak --> true\n",
    "  }\n",
    "\n",
    "  def main(args: Array[String]): Unit = {\n",
    "    println(\"Please enter a string and press enter.\")\n",
    "    var userInput = readLine()\n",
    "\n",
    "    var reversedStr = reverseString(userInput)\n",
    "    println(f\"The reversed string is: $reversedStr\")\n",
    "\n",
    "    var isAPalindrome = isPalindrome(userInput)\n",
    "    println(f\"Is $userInput%s a palindrom? $isAPalindrome%s\")\n",
    "  }\n",
    "}\n",
    "\n",
    "// You feel stuck? This is ok, whe did not teach you anything yet!\n",
    "// A cheatsheet to remember the syntaxt https://docs.scala-lang.org/cheatsheets/index.html\n",
    "// Search for a function's usage: https://www.scala-lang.org/api/current/\n",
    "```\n",
    "\n",
    "Follow the instructions in comments."
   ]
  }
 ],
 "metadata": {
  "kernelspec": {
   "display_name": "Python 3",
   "language": "python",
   "name": "python3"
  },
  "language_info": {
   "codemirror_mode": {
    "name": "ipython",
    "version": 3
   },
   "file_extension": ".py",
   "mimetype": "text/x-python",
   "name": "python",
   "nbconvert_exporter": "python",
   "pygments_lexer": "ipython3",
   "version": "3.8.3"
  }
 },
 "nbformat": 4,
 "nbformat_minor": 4
}
