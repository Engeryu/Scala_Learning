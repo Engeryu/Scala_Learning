{
 "metadata": {
  "language_info": {
   "codemirror_mode": {
    "name": "ipython",
    "version": 3
   },
   "file_extension": ".py",
   "mimetype": "text/x-python",
   "name": "python",
   "nbconvert_exporter": "python",
   "pygments_lexer": "ipython3",
   "version": 3
  },
  "orig_nbformat": 2
 },
 "nbformat": 4,
 "nbformat_minor": 2,
 "cells": [
  {
   "source": [
    "# Packages and imports\n",
    "\n",
    "### How to manage packages?\n",
    "\n",
    "A package in Scala is a mechanism to encapsulate a group of classes, sub packages, traits and package objects. \n",
    "In practice, it provides a namespace to organize your code in a different file or directory.\n",
    " \n",
    "Here is an example of a project structure:\n",
    "\n",
    "![Package structure](https://full-stack-assets.s3.eu-west-3.amazonaws.com/images/LEAD/M01-Introduction_to_Scala/D02-OOP_and_functionnal_programming/packages-scala.png)\n",
    "\n",
    "The project has one main package called `jedha` and one sub package called `utils`.\n",
    "\n",
    "You can see that to a use class within the same package you do not need to write an import statement. On the other hand, \n",
    "if you wish to use a class from another package such as `MathUtils`, you need to import the object: `import jedha.utils.MathUtils`\n",
    "\n",
    "\n",
    "### Import external library\n",
    "\n",
    "As in Python, in Scala you can use `sbt` to import external libraries.\n",
    "\n",
    "For example, you can import a machine learning library `breeze`\n",
    "\n",
    "In `build.sbt` you can add all the dependencies you want to import as a sequence `Seq`. You should define the package, the name of the lib and the version.\n",
    "\n",
    "`Sbt` will automatically download the compiled library, and make it available in your project.\n",
    "\n",
    "```\n",
    "libraryDependencies ++= Seq(\"org.scalanlp\" %% \"breeze\" % \"1.1\")\n",
    "```  \n",
    "\n",
    "Once you did this the library is available as any other package in your project.\n",
    "\n",
    "```\n",
    "package jedha\n",
    "import breeze.stats.distributions.Poisson\n",
    "\n",
    "object JedhaBootcampApp {\n",
    "  def main(args: Array[String]): Unit = {\n",
    "    val poi = Poisson(3.0) // Poisson is from breeze\n",
    "    println(poi.draw())\n",
    "  }\n",
    "}\n",
    "```\n",
    "\n",
    "Note that you can also import the whole package at once.\n",
    "\n",
    "```\n",
    "import breeze.stats.distributions._\n",
    "```"
   ],
   "cell_type": "markdown",
   "metadata": {}
  }
 ]
}