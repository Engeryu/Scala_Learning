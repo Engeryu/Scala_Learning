{
 "cells": [
  {
   "cell_type": "markdown",
   "metadata": {},
   "source": [
    "# Object oriented programming\n",
    "\n",
    "Copy and paste these contents into new files and follow the instructions in comments.\n",
    "\n",
    "## `OOP-Exercise0.scala`\n",
    "\n",
    "```scala\n",
    "// Create a class that represents fractions and methods to\n",
    "// - multiply\n",
    "// - add\n",
    "// - approximate the result\n",
    "// - toString method\n",
    "object Exercise0 {\n",
    "  def main(args: Array[String]): Unit = {\n",
    "\n",
    "  }\n",
    "}\n",
    "```\n",
    "\n",
    "## `OOP-Exercise1.scala`\n",
    "\n",
    "```scala\n",
    "// Create a class that represents a train\n",
    "// The train is defined by a name and a list of wagons\n",
    "// Each wagon is defined by a list of seats\n",
    "// The train should have a method to add passengers to any free seat\n",
    "// The train should have a toString method\n",
    "object Exercise1 {\n",
    "  def main(args: Array[String]): Unit = {\n",
    "\n",
    "  }\n",
    "}\n",
    "```"
   ]
  }
 ],
 "metadata": {
  "kernelspec": {
   "display_name": "Python 3",
   "language": "python",
   "name": "python3"
  },
  "language_info": {
   "codemirror_mode": {
    "name": "ipython",
    "version": 3
   },
   "file_extension": ".py",
   "mimetype": "text/x-python",
   "name": "python",
   "nbconvert_exporter": "python",
   "pygments_lexer": "ipython3",
   "version": "3.8.3"
  }
 },
 "nbformat": 4,
 "nbformat_minor": 4
}
